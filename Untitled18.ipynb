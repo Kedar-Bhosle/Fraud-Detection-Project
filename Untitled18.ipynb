{
  "nbformat": 4,
  "nbformat_minor": 0,
  "metadata": {
    "colab": {
      "provenance": []
    },
    "kernelspec": {
      "name": "python3",
      "display_name": "Python 3"
    },
    "language_info": {
      "name": "python"
    }
  },
  "cells": [
    {
      "cell_type": "code",
      "execution_count": null,
      "metadata": {
        "colab": {
          "base_uri": "https://localhost:8080/"
        },
        "id": "cKFYGDlHaeAO",
        "outputId": "a26693f8-4430-4d0f-cb07-4d75b6cd2982"
      },
      "outputs": [
        {
          "output_type": "stream",
          "name": "stderr",
          "text": [
            "/tmp/ipython-input-3-3626871007.py:5: DtypeWarning: Columns (1,3,6) have mixed types. Specify dtype option on import or set low_memory=False.\n",
            "  df = pd.read_csv(\"/content/Fraud.csv\")\n"
          ]
        },
        {
          "output_type": "execute_result",
          "data": {
            "text/plain": [
              "{'shape': (1048562, 11),\n",
              " 'columns': ['step',\n",
              "  'type',\n",
              "  'amount',\n",
              "  'nameOrig',\n",
              "  'oldbalanceOrg',\n",
              "  'newbalanceOrig',\n",
              "  'nameDest',\n",
              "  'oldbalanceDest',\n",
              "  'newbalanceDest',\n",
              "  'isFraud',\n",
              "  'isFlaggedFraud'],\n",
              " 'data_types': {'step': dtype('float64'),\n",
              "  'type': dtype('O'),\n",
              "  'amount': dtype('float64'),\n",
              "  'nameOrig': dtype('O'),\n",
              "  'oldbalanceOrg': dtype('float64'),\n",
              "  'newbalanceOrig': dtype('float64'),\n",
              "  'nameDest': dtype('O'),\n",
              "  'oldbalanceDest': dtype('float64'),\n",
              "  'newbalanceDest': dtype('float64'),\n",
              "  'isFraud': dtype('float64'),\n",
              "  'isFlaggedFraud': dtype('float64')},\n",
              " 'null_values': {'step': 179439,\n",
              "  'type': 179439,\n",
              "  'amount': 179439,\n",
              "  'nameOrig': 179439,\n",
              "  'oldbalanceOrg': 179439,\n",
              "  'newbalanceOrig': 179439,\n",
              "  'nameDest': 179439,\n",
              "  'oldbalanceDest': 179439,\n",
              "  'newbalanceDest': 179439,\n",
              "  'isFraud': 179439,\n",
              "  'isFlaggedFraud': 179439},\n",
              " 'head':    step      type    amount     nameOrig  oldbalanceOrg  newbalanceOrig  \\\n",
              " 0   1.0   PAYMENT   9839.64  C1231006815       170136.0       160296.36   \n",
              " 1   1.0   PAYMENT   1864.28  C1666544295        21249.0        19384.72   \n",
              " 2   1.0  TRANSFER    181.00  C1305486145          181.0            0.00   \n",
              " 3   1.0  CASH_OUT    181.00   C840083671          181.0            0.00   \n",
              " 4   1.0   PAYMENT  11668.14  C2048537720        41554.0        29885.86   \n",
              " \n",
              "       nameDest  oldbalanceDest  newbalanceDest  isFraud  isFlaggedFraud  \n",
              " 0  M1979787155             0.0             0.0      0.0             0.0  \n",
              " 1  M2044282225             0.0             0.0      0.0             0.0  \n",
              " 2   C553264065             0.0             0.0      1.0             0.0  \n",
              " 3    C38997010         21182.0             0.0      1.0             0.0  \n",
              " 4  M1230701703             0.0             0.0      0.0             0.0  }"
            ]
          },
          "metadata": {},
          "execution_count": 3
        }
      ],
      "source": [
        "import pandas as pd\n",
        "\n",
        "# Load the uploaded dataset\n",
        "file_path = \"/mnt/data/Fraud.csv\"\n",
        "df = pd.read_csv(\"/content/Fraud.csv\")\n",
        "\n",
        "# Show basic info about the dataset\n",
        "basic_info = {\n",
        "    \"shape\": df.shape,\n",
        "    \"columns\": df.columns.tolist(),\n",
        "    \"data_types\": df.dtypes.to_dict(),\n",
        "    \"null_values\": df.isnull().sum().to_dict(),\n",
        "    \"head\": df.head()\n",
        "}\n",
        "\n",
        "basic_info\n"
      ]
    },
    {
      "cell_type": "code",
      "source": [
        "# Re-import necessary libraries after kernel reset\n",
        "import pandas as pd\n",
        "\n",
        "# Load the uploaded dataset\n",
        "file_path = \"/mnt/data/Fraud.csv\"\n",
        "df = pd.read_csv(\"/content/Fraud.csv\")\n",
        "\n",
        "# Show basic info about the dataset\n",
        "basic_info = {\n",
        "    \"shape\": df.shape,\n",
        "    \"columns\": df.columns.tolist(),\n",
        "    \"data_types\": df.dtypes.to_dict(),\n",
        "    \"null_values\": df.isnull().sum().to_dict(),\n",
        "    \"head\": df.head()\n",
        "}\n",
        "\n",
        "basic_info\n"
      ],
      "metadata": {
        "colab": {
          "base_uri": "https://localhost:8080/"
        },
        "id": "lcjyXRu0enev",
        "outputId": "df37b5de-cf20-4c81-efcf-ad03f107298e"
      },
      "execution_count": null,
      "outputs": [
        {
          "output_type": "stream",
          "name": "stderr",
          "text": [
            "/tmp/ipython-input-5-1531012630.py:6: DtypeWarning: Columns (1,3,6) have mixed types. Specify dtype option on import or set low_memory=False.\n",
            "  df = pd.read_csv(\"/content/Fraud.csv\")\n"
          ]
        },
        {
          "output_type": "execute_result",
          "data": {
            "text/plain": [
              "{'shape': (1048562, 11),\n",
              " 'columns': ['step',\n",
              "  'type',\n",
              "  'amount',\n",
              "  'nameOrig',\n",
              "  'oldbalanceOrg',\n",
              "  'newbalanceOrig',\n",
              "  'nameDest',\n",
              "  'oldbalanceDest',\n",
              "  'newbalanceDest',\n",
              "  'isFraud',\n",
              "  'isFlaggedFraud'],\n",
              " 'data_types': {'step': dtype('float64'),\n",
              "  'type': dtype('O'),\n",
              "  'amount': dtype('float64'),\n",
              "  'nameOrig': dtype('O'),\n",
              "  'oldbalanceOrg': dtype('float64'),\n",
              "  'newbalanceOrig': dtype('float64'),\n",
              "  'nameDest': dtype('O'),\n",
              "  'oldbalanceDest': dtype('float64'),\n",
              "  'newbalanceDest': dtype('float64'),\n",
              "  'isFraud': dtype('float64'),\n",
              "  'isFlaggedFraud': dtype('float64')},\n",
              " 'null_values': {'step': 179439,\n",
              "  'type': 179439,\n",
              "  'amount': 179439,\n",
              "  'nameOrig': 179439,\n",
              "  'oldbalanceOrg': 179439,\n",
              "  'newbalanceOrig': 179439,\n",
              "  'nameDest': 179439,\n",
              "  'oldbalanceDest': 179439,\n",
              "  'newbalanceDest': 179439,\n",
              "  'isFraud': 179439,\n",
              "  'isFlaggedFraud': 179439},\n",
              " 'head':    step      type    amount     nameOrig  oldbalanceOrg  newbalanceOrig  \\\n",
              " 0   1.0   PAYMENT   9839.64  C1231006815       170136.0       160296.36   \n",
              " 1   1.0   PAYMENT   1864.28  C1666544295        21249.0        19384.72   \n",
              " 2   1.0  TRANSFER    181.00  C1305486145          181.0            0.00   \n",
              " 3   1.0  CASH_OUT    181.00   C840083671          181.0            0.00   \n",
              " 4   1.0   PAYMENT  11668.14  C2048537720        41554.0        29885.86   \n",
              " \n",
              "       nameDest  oldbalanceDest  newbalanceDest  isFraud  isFlaggedFraud  \n",
              " 0  M1979787155             0.0             0.0      0.0             0.0  \n",
              " 1  M2044282225             0.0             0.0      0.0             0.0  \n",
              " 2   C553264065             0.0             0.0      1.0             0.0  \n",
              " 3    C38997010         21182.0             0.0      1.0             0.0  \n",
              " 4  M1230701703             0.0             0.0      0.0             0.0  }"
            ]
          },
          "metadata": {},
          "execution_count": 5
        }
      ]
    },
    {
      "cell_type": "code",
      "source": [
        "# ✅ Step 2: Data Cleaning & Balancing\n",
        "\n",
        "# Drop rows where all values are missing\n",
        "df_cleaned = df.dropna(how=\"all\")\n",
        "\n",
        "# Check class distribution for isFraud\n",
        "fraud_counts = df_cleaned[\"isFraud\"].value_counts()\n",
        "\n",
        "# Percentage distribution of target variable\n",
        "fraud_percentages = df_cleaned[\"isFraud\"].value_counts(normalize=True) * 100\n",
        "\n",
        "# Re-check shape after cleaning\n",
        "cleaned_shape = df_cleaned.shape\n",
        "\n",
        "{\n",
        "    \"new_shape\": cleaned_shape,\n",
        "    \"fraud_counts\": fraud_counts.to_dict(),\n",
        "    \"fraud_percentages\": fraud_percentages.round(2).to_dict()\n",
        "}\n"
      ],
      "metadata": {
        "colab": {
          "base_uri": "https://localhost:8080/"
        },
        "id": "hryi_MQGe3fp",
        "outputId": "fabf1a7b-457d-4617-f743-84cac2ffc79f"
      },
      "execution_count": null,
      "outputs": [
        {
          "output_type": "execute_result",
          "data": {
            "text/plain": [
              "{'new_shape': (869123, 11),\n",
              " 'fraud_counts': {0.0: 868637, 1.0: 486},\n",
              " 'fraud_percentages': {0.0: 99.94, 1.0: 0.06}}"
            ]
          },
          "metadata": {},
          "execution_count": 6
        }
      ]
    },
    {
      "cell_type": "code",
      "source": [
        "# ✅ Step 3: Encode 'type' column and balance the classes using SMOTE\n",
        "\n",
        "from sklearn.preprocessing import LabelEncoder\n",
        "from imblearn.over_sampling import SMOTE\n",
        "\n",
        "# Drop non-useful ID columns\n",
        "df_model = df_cleaned.drop(['nameOrig', 'nameDest'], axis=1)\n",
        "\n",
        "# Encode the 'type' column\n",
        "le = LabelEncoder()\n",
        "df_model['type'] = le.fit_transform(df_model['type'])\n",
        "\n",
        "# Split features and target\n",
        "X = df_model.drop('isFraud', axis=1)\n",
        "y = df_model['isFraud']\n",
        "\n",
        "# Apply SMOTE to handle class imbalance\n",
        "smote = SMOTE(random_state=42)\n",
        "X_resampled, y_resampled = smote.fit_resample(X, y)\n",
        "\n",
        "# Check new class distribution\n",
        "balanced_counts = y_resampled.value_counts().to_dict()\n",
        "\n",
        "X.shape, X_resampled.shape, balanced_counts\n"
      ],
      "metadata": {
        "colab": {
          "base_uri": "https://localhost:8080/"
        },
        "id": "V91Fe67IfEkI",
        "outputId": "5fbbf069-5c2c-4e2c-c3bd-b5be0aef1137"
      },
      "execution_count": null,
      "outputs": [
        {
          "output_type": "execute_result",
          "data": {
            "text/plain": [
              "((869123, 8), (1737274, 8), {0.0: 868637, 1.0: 868637})"
            ]
          },
          "metadata": {},
          "execution_count": 7
        }
      ]
    },
    {
      "cell_type": "code",
      "source": [
        "pip install imblearn\n"
      ],
      "metadata": {
        "colab": {
          "base_uri": "https://localhost:8080/"
        },
        "id": "Mw6FOnUTfMWM",
        "outputId": "6c9296cd-7d8b-49cf-fc51-87bc8568352f"
      },
      "execution_count": null,
      "outputs": [
        {
          "output_type": "stream",
          "name": "stdout",
          "text": [
            "Collecting imblearn\n",
            "  Downloading imblearn-0.0-py2.py3-none-any.whl.metadata (355 bytes)\n",
            "Requirement already satisfied: imbalanced-learn in /usr/local/lib/python3.11/dist-packages (from imblearn) (0.13.0)\n",
            "Requirement already satisfied: numpy<3,>=1.24.3 in /usr/local/lib/python3.11/dist-packages (from imbalanced-learn->imblearn) (2.0.2)\n",
            "Requirement already satisfied: scipy<2,>=1.10.1 in /usr/local/lib/python3.11/dist-packages (from imbalanced-learn->imblearn) (1.16.0)\n",
            "Requirement already satisfied: scikit-learn<2,>=1.3.2 in /usr/local/lib/python3.11/dist-packages (from imbalanced-learn->imblearn) (1.6.1)\n",
            "Requirement already satisfied: sklearn-compat<1,>=0.1 in /usr/local/lib/python3.11/dist-packages (from imbalanced-learn->imblearn) (0.1.3)\n",
            "Requirement already satisfied: joblib<2,>=1.1.1 in /usr/local/lib/python3.11/dist-packages (from imbalanced-learn->imblearn) (1.5.1)\n",
            "Requirement already satisfied: threadpoolctl<4,>=2.0.0 in /usr/local/lib/python3.11/dist-packages (from imbalanced-learn->imblearn) (3.6.0)\n",
            "Downloading imblearn-0.0-py2.py3-none-any.whl (1.9 kB)\n",
            "Installing collected packages: imblearn\n",
            "Successfully installed imblearn-0.0\n"
          ]
        }
      ]
    },
    {
      "cell_type": "code",
      "source": [
        "# Re-run now that imblearn should be installed\n",
        "\n",
        "from sklearn.preprocessing import LabelEncoder\n",
        "from imblearn.over_sampling import SMOTE\n",
        "\n",
        "# Drop ID columns not needed for modeling\n",
        "df_model = df_cleaned.drop(['nameOrig', 'nameDest'], axis=1)\n",
        "\n",
        "# Encode the 'type' column\n",
        "le = LabelEncoder()\n",
        "df_model['type'] = le.fit_transform(df_model['type'])\n",
        "\n",
        "# Split into features and target\n",
        "X = df_model.drop('isFraud', axis=1)\n",
        "y = df_model['isFraud']\n",
        "\n",
        "# Apply SMOTE to balance the classes\n",
        "smote = SMOTE(random_state=42)\n",
        "X_resampled, y_resampled = smote.fit_resample(X, y)\n",
        "\n",
        "# Class balance after SMOTE\n",
        "balanced_counts = y_resampled.value_counts().to_dict()\n",
        "\n",
        "X.shape, X_resampled.shape, balanced_counts\n"
      ],
      "metadata": {
        "colab": {
          "base_uri": "https://localhost:8080/"
        },
        "id": "xz3nwH2sfZA8",
        "outputId": "55052c30-2d10-4f6f-b1c4-2c91cf9121c7"
      },
      "execution_count": null,
      "outputs": [
        {
          "output_type": "execute_result",
          "data": {
            "text/plain": [
              "((869123, 8), (1737274, 8), {0.0: 868637, 1.0: 868637})"
            ]
          },
          "metadata": {},
          "execution_count": 9
        }
      ]
    },
    {
      "cell_type": "code",
      "source": [
        "# STEP: Balance Dataset Using SMOTE\n",
        "from sklearn.preprocessing import LabelEncoder\n",
        "from imblearn.over_sampling import SMOTE\n",
        "\n",
        "# Drop columns that won't help model\n",
        "df_model = df_cleaned.drop(['nameOrig', 'nameDest'], axis=1)\n",
        "\n",
        "# Encode 'type' feature\n",
        "le = LabelEncoder()\n",
        "df_model['type'] = le.fit_transform(df_model['type'])\n",
        "\n",
        "# Define X and y\n",
        "X = df_model.drop('isFraud', axis=1)\n",
        "y = df_model['isFraud']\n",
        "\n",
        "# Apply SMOTE to balance the data\n",
        "smote = SMOTE(random_state=42)\n",
        "X_resampled, y_resampled = smote.fit_resample(X, y)\n",
        "\n",
        "# Check class balance\n",
        "print(\"Original shape:\", X.shape)\n",
        "print(\"After SMOTE:\", X_resampled.shape)\n",
        "print(\"Class counts:\\n\", y_resampled.value_counts())\n"
      ],
      "metadata": {
        "colab": {
          "base_uri": "https://localhost:8080/"
        },
        "id": "dxahk6v8fdj4",
        "outputId": "5bbf5f1d-ca0c-4a98-b83b-29cbe7ec0ed0"
      },
      "execution_count": null,
      "outputs": [
        {
          "output_type": "stream",
          "name": "stdout",
          "text": [
            "Original shape: (869123, 8)\n",
            "After SMOTE: (1737274, 8)\n",
            "Class counts:\n",
            " isFraud\n",
            "0.0    868637\n",
            "1.0    868637\n",
            "Name: count, dtype: int64\n"
          ]
        }
      ]
    },
    {
      "cell_type": "code",
      "source": [
        "# Proceeding with model training assuming data is balanced (simulate with existing data for now)\n",
        "from sklearn.model_selection import train_test_split\n",
        "from sklearn.ensemble import RandomForestClassifier\n",
        "from sklearn.metrics import classification_report, confusion_matrix, roc_auc_score\n",
        "\n",
        "# Simulate training on original data (unbalanced, just for execution here)\n",
        "X = df_model.drop(\"isFraud\", axis=1)\n",
        "y = df_model[\"isFraud\"]\n",
        "\n",
        "# Split data\n",
        "X_train, X_test, y_train, y_test = train_test_split(X, y, test_size=0.2, random_state=42, stratify=y)\n",
        "\n",
        "# Train model\n",
        "model = RandomForestClassifier(n_estimators=100, random_state=42)\n",
        "model.fit(X_train, y_train)\n",
        "\n",
        "# Predict\n",
        "y_pred = model.predict(X_test)\n",
        "\n",
        "# Evaluate\n",
        "evaluation_results = {\n",
        "    \"classification_report\": classification_report(y_test, y_pred, output_dict=True),\n",
        "    \"confusion_matrix\": confusion_matrix(y_test, y_pred).tolist(),\n",
        "    \"roc_auc_score\": roc_auc_score(y_test, y_pred)\n",
        "}\n",
        "\n",
        "evaluation_results\n"
      ],
      "metadata": {
        "colab": {
          "base_uri": "https://localhost:8080/"
        },
        "id": "-_sLYmrefmJW",
        "outputId": "7728db48-d9f4-4762-c1e0-6da9cfc6525e"
      },
      "execution_count": null,
      "outputs": [
        {
          "output_type": "execute_result",
          "data": {
            "text/plain": [
              "{'classification_report': {'0.0': {'precision': 0.999758298420883,\n",
              "   'recall': 0.999988487750967,\n",
              "   'f1-score': 0.9998733798374657,\n",
              "   'support': 173728.0},\n",
              "  '1.0': {'precision': 0.9649122807017544,\n",
              "   'recall': 0.5670103092783505,\n",
              "   'f1-score': 0.7142857142857143,\n",
              "   'support': 97.0},\n",
              "  'accuracy': 0.999746871853876,\n",
              "  'macro avg': {'precision': 0.9823352895613187,\n",
              "   'recall': 0.7834993985146588,\n",
              "   'f1-score': 0.85707954706159,\n",
              "   'support': 173825.0},\n",
              "  'weighted avg': {'precision': 0.9997388532103623,\n",
              "   'recall': 0.999746871853876,\n",
              "   'f1-score': 0.9997140126373592,\n",
              "   'support': 173825.0}},\n",
              " 'confusion_matrix': [[173726, 2], [42, 55]],\n",
              " 'roc_auc_score': np.float64(0.7834993985146588)}"
            ]
          },
          "metadata": {},
          "execution_count": 11
        }
      ]
    },
    {
      "cell_type": "code",
      "source": [
        "# ✅ STEP: Train-Test Split\n",
        "from sklearn.model_selection import train_test_split\n",
        "X_train, X_test, y_train, y_test = train_test_split(\n",
        "    X_resampled, y_resampled, test_size=0.2, random_state=42, stratify=y_resampled\n",
        ")\n",
        "\n",
        "# ✅ STEP: Train Random Forest Model\n",
        "from sklearn.ensemble import RandomForestClassifier\n",
        "rf_model = RandomForestClassifier(n_estimators=100, random_state=42)\n",
        "rf_model.fit(X_train, y_train)\n",
        "\n",
        "# ✅ STEP: Make Predictions\n",
        "y_pred = rf_model.predict(X_test)\n",
        "\n",
        "# ✅ STEP: Evaluate the Model\n",
        "from sklearn.metrics import classification_report, confusion_matrix, roc_auc_score\n",
        "\n",
        "print(\"Confusion Matrix:\")\n",
        "print(confusion_matrix(y_test, y_pred))\n",
        "\n",
        "print(\"\\nClassification Report:\")\n",
        "print(classification_report(y_test, y_pred))\n",
        "\n",
        "print(\"\\nROC AUC Score:\")\n",
        "print(roc_auc_score(y_test, y_pred))\n"
      ],
      "metadata": {
        "colab": {
          "base_uri": "https://localhost:8080/"
        },
        "id": "-RgNMaYIgP8p",
        "outputId": "e2bfe513-5839-4873-a852-1f06fed3be2a"
      },
      "execution_count": null,
      "outputs": [
        {
          "output_type": "stream",
          "name": "stdout",
          "text": [
            "Confusion Matrix:\n",
            "[[173642     86]\n",
            " [     8 173719]]\n",
            "\n",
            "Classification Report:\n",
            "              precision    recall  f1-score   support\n",
            "\n",
            "         0.0       1.00      1.00      1.00    173728\n",
            "         1.0       1.00      1.00      1.00    173727\n",
            "\n",
            "    accuracy                           1.00    347455\n",
            "   macro avg       1.00      1.00      1.00    347455\n",
            "weighted avg       1.00      1.00      1.00    347455\n",
            "\n",
            "\n",
            "ROC AUC Score:\n",
            "0.9997294620151926\n"
          ]
        }
      ]
    },
    {
      "cell_type": "code",
      "source": [
        "import pandas as pd\n",
        "import matplotlib.pyplot as plt\n",
        "\n",
        "# Get feature importances from the model\n",
        "feature_importances = pd.Series(rf_model.feature_importances_, index=X.columns)\n",
        "feature_importances.sort_values(ascending=False).plot(kind='bar', figsize=(12, 6), title=\"Feature Importance\")\n",
        "plt.ylabel(\"Importance Score\")\n",
        "plt.show()\n"
      ],
      "metadata": {
        "id": "LX9odOryh3w0",
        "outputId": "990da0ba-6ad0-42f8-cc7b-528ac9d70c14",
        "colab": {
          "base_uri": "https://localhost:8080/",
          "height": 646
        }
      },
      "execution_count": null,
      "outputs": [
        {
          "output_type": "display_data",
          "data": {
            "text/plain": [
              "<Figure size 1200x600 with 1 Axes>"
            ],
            "image/png": "[encoded data removed]"
          },
          "metadata": {}
        }
      ]
    }
  ]
}